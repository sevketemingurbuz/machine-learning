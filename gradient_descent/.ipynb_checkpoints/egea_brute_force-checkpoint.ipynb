{
 "cells": [
  {
   "cell_type": "code",
   "execution_count": 31,
   "id": "02ffa3f5-3bd2-4ab5-a3b6-ffd129b00d3f",
   "metadata": {},
   "outputs": [
    {
     "name": "stdout",
     "output_type": "stream",
     "text": [
      "[WinError 123] Dosya adı, dizin adı veya birim etiketi sözdizimi hatalı: \"'C:\\\\\\\\Users\\\\\\\\emr_f\\\\\\\\Desktop\\\\\\\\veri madenciliği\\\\\\\\çalışmalar\\\\\\\\gradient_descent'\"\n",
      "C:\\Users\\emr_f\\Desktop\\veri madenciliği\n"
     ]
    }
   ],
   "source": [
    "cd 'C:\\\\Users\\\\emr_f\\\\Desktop\\\\veri madenciliği\\\\çalışmalar\\\\gradient_descent'\n"
   ]
  },
  {
   "cell_type": "code",
   "execution_count": 19,
   "id": "2bf5d217-317b-41af-9a6b-8f21dc92ba94",
   "metadata": {},
   "outputs": [],
   "source": [
    "import numpy\n",
    "import pandas"
   ]
  },
  {
   "cell_type": "code",
   "execution_count": 15,
   "id": "25881e93-0010-42d3-aa0c-94176496299b",
   "metadata": {},
   "outputs": [
    {
     "ename": "ModuleNotFoundError",
     "evalue": "No module named 'kagglehub'",
     "output_type": "error",
     "traceback": [
      "\u001b[1;31m---------------------------------------------------------------------------\u001b[0m",
      "\u001b[1;31mModuleNotFoundError\u001b[0m                       Traceback (most recent call last)",
      "Cell \u001b[1;32mIn[15], line 1\u001b[0m\n\u001b[1;32m----> 1\u001b[0m \u001b[38;5;28;01mimport\u001b[39;00m \u001b[38;5;21;01mkagglehub\u001b[39;00m\n\u001b[0;32m      3\u001b[0m \u001b[38;5;66;03m# Download latest version\u001b[39;00m\n\u001b[0;32m      4\u001b[0m path \u001b[38;5;241m=\u001b[39m kagglehub\u001b[38;5;241m.\u001b[39mdataset_download(\u001b[38;5;124m\"\u001b[39m\u001b[38;5;124mkarthickveerakumar/salary-data-simple-linear-regression\u001b[39m\u001b[38;5;124m\"\u001b[39m)\n",
      "\u001b[1;31mModuleNotFoundError\u001b[0m: No module named 'kagglehub'"
     ]
    }
   ],
   "source": [
    "veri= pd.read_excel(\"\")"
   ]
  },
  {
   "cell_type": "code",
   "execution_count": null,
   "id": "45b4b6ba-bb52-4732-8b2b-4ea084e6ee55",
   "metadata": {},
   "outputs": [],
   "source": []
  }
 ],
 "metadata": {
  "kernelspec": {
   "display_name": "Python 3 (ipykernel)",
   "language": "python",
   "name": "python3"
  },
  "language_info": {
   "codemirror_mode": {
    "name": "ipython",
    "version": 3
   },
   "file_extension": ".py",
   "mimetype": "text/x-python",
   "name": "python",
   "nbconvert_exporter": "python",
   "pygments_lexer": "ipython3",
   "version": "3.12.4"
  }
 },
 "nbformat": 4,
 "nbformat_minor": 5
}
