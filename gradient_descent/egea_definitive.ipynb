{
 "cells": [
  {
   "cell_type": "code",
   "execution_count": 4,
   "id": "2527f6e9-b47e-4064-b615-d3903648e5df",
   "metadata": {},
   "outputs": [
    {
     "data": {
      "text/plain": [
       "'C:\\\\Users\\\\emr_f\\\\Desktop\\\\veri madenciliği\\\\çalışmalar\\\\gradient_descent'"
      ]
     },
     "execution_count": 4,
     "metadata": {},
     "output_type": "execute_result"
    }
   ],
   "source": [
    "pwd"
   ]
  },
  {
   "cell_type": "code",
   "execution_count": 4,
   "id": "2c5eb140-dadc-4330-9c07-048807f1213c",
   "metadata": {},
   "outputs": [],
   "source": [
    "import numpy as np\n",
    "import pandas as pd\n",
    "import matplotlib.pyplot as plt"
   ]
  },
  {
   "cell_type": "code",
   "execution_count": 5,
   "id": "0ed036c1-6137-4632-8d64-f1d7eac55e99",
   "metadata": {},
   "outputs": [],
   "source": [
    "veri= pd.read_excel(\"..//veriseti//egea_fiyatlar.xlsx\")\n",
    "veri_np= veri.to_numpy()"
   ]
  },
  {
   "cell_type": "code",
   "execution_count": 266,
   "id": "917622fc-8291-4d2c-bb60-cd3201327cd0",
   "metadata": {},
   "outputs": [],
   "source": [
    "X_train= veri_np[:20,0]\n",
    "Y_train= veri_np[:20,1]\n",
    "\n",
    "X_test= veri_np[20:,0]\n",
    "Y_test= veri_np[20:,1]"
   ]
  },
  {
   "cell_type": "code",
   "execution_count": 268,
   "id": "7faf5d8d-bc18-4739-895b-821239a969b5",
   "metadata": {},
   "outputs": [],
   "source": [
    "epoch= 10\n",
    "w0= 1100\n",
    "w1=-3\n",
    "xR= 0.0001\n",
    "m= len(X_train) \n",
    "kayiplar= []"
   ]
  },
  {
   "cell_type": "code",
   "execution_count": 270,
   "id": "5981ed11-9c4a-4626-882a-44a2ad6fb714",
   "metadata": {},
   "outputs": [],
   "source": [
    "def turev_w0(w0, w1, X_train, Y_train):\n",
    "    toplam= 0\n",
    "    for i in range(m):\n",
    "        toplam+= w0 + w1*X_train[i] - Y_train[i]\n",
    "    return toplam/m\n",
    "def turev_w1(w0, w1, X_train, Y_train):\n",
    "    toplam= 0\n",
    "    for i in range(m):\n",
    "        toplam+= (w0 + w1*X_train[i] - Y_train[i])*X_train[i]\n",
    "    return toplam/m "
   ]
  },
  {
   "cell_type": "code",
   "execution_count": 272,
   "id": "83655b02-e295-41cf-8ba5-c186be7fa286",
   "metadata": {},
   "outputs": [],
   "source": [
    "def kayip(w0, w1, x, y):\n",
    "    tahmin= 0\n",
    "    loss= 0\n",
    "    for i in range(len(x)):\n",
    "        tahmin= w0 + w1*x[i] \n",
    "        loss+= (tahmin - y[i])**2\n",
    "    return loss/len(x)\n",
    "    "
   ]
  },
  {
   "cell_type": "code",
   "execution_count": 274,
   "id": "aefc5900-72c6-44b3-ac2c-3327979ad5fa",
   "metadata": {},
   "outputs": [],
   "source": [
    "def tahminF(w0, w1, X_test, Y_test):\n",
    "    for i in range(len(X_test)):\n",
    "        tahmin= w0 + w1*X_test[i]\n",
    "        print(f'{i}. test örneği için tahmin: {tahmin:.3f} gerçek: {Y_test[i]}')"
   ]
  },
  {
   "cell_type": "code",
   "execution_count": 276,
   "id": "237d7c86-d388-4c4d-8b96-33fbbc0abdfa",
   "metadata": {},
   "outputs": [
    {
     "name": "stdout",
     "output_type": "stream",
     "text": [
      "0 epoch için kayıp: 7531\n",
      "1 epoch için kayıp: 7427\n",
      "2 epoch için kayıp: 7416\n",
      "3 epoch için kayıp: 7415\n",
      "4 epoch için kayıp: 7415\n",
      "5 epoch için kayıp: 7415\n",
      "6 epoch için kayıp: 7415\n",
      "7 epoch için kayıp: 7415\n",
      "8 epoch için kayıp: 7415\n",
      "9 epoch için kayıp: 7414\n",
      "0. test örneği için tahmin: 903.030 gerçek: 870\n",
      "1. test örneği için tahmin: 792.417 gerçek: 720\n",
      "2. test örneği için tahmin: 840.979 gerçek: 875\n",
      "3. test örneği için tahmin: 938.103 gerçek: 910\n",
      "4. test örneği için tahmin: 638.637 gerçek: 685\n"
     ]
    }
   ],
   "source": [
    "for i in range(epoch):\n",
    "    w0_yeni= w0 - xR*turev_w0(w0, w1, X_train, Y_train)\n",
    "    w1_yeni= w1 - xR*turev_w1(w0, w1, X_train, Y_train)\n",
    "    w0= w0_yeni\n",
    "    w1= w1_yeni\n",
    "\n",
    "    \n",
    "    loss= kayip(w0, w1, X_train, Y_train)\n",
    "    kayiplar.append(loss)\n",
    "    print(f'{i} epoch için kayıp: {loss:.0f}')\n",
    "tahminF(w0, w1, X_test, Y_test)\n"
   ]
  },
  {
   "cell_type": "code",
   "execution_count": 278,
   "id": "f93eca75-ce9d-44fa-831d-86d61010f28a",
   "metadata": {},
   "outputs": [
    {
     "name": "stdout",
     "output_type": "stream",
     "text": [
      "1099.976119386767\n",
      "-2.697887542451809\n"
     ]
    }
   ],
   "source": [
    "print(w0)\n",
    "print(w1)"
   ]
  },
  {
   "cell_type": "code",
   "execution_count": 280,
   "id": "8beaec1d-13cb-4c14-b212-6530ee87e694",
   "metadata": {},
   "outputs": [
    {
     "data": {
      "text/plain": [
       "array([0, 1, 2, 3, 4, 5, 6, 7, 8, 9])"
      ]
     },
     "execution_count": 280,
     "metadata": {},
     "output_type": "execute_result"
    }
   ],
   "source": [
    "np.arange(epoch)"
   ]
  },
  {
   "cell_type": "code",
   "execution_count": 282,
   "id": "8199404a-853a-451a-87c0-7d169923c26f",
   "metadata": {},
   "outputs": [
    {
     "data": {
      "image/png": "[encoded data removed]",
      "text/plain": [
       "<Figure size 640x480 with 1 Axes>"
      ]
     },
     "metadata": {},
     "output_type": "display_data"
    }
   ],
   "source": [
    "plt.plot(np.arange(epoch),kayiplar)\n",
    "plt.xlabel(\"epoch: iterasyon sayısı\")\n",
    "plt.ylabel(\"kayip miktarı\")\n",
    "plt.show()"
   ]
  },
  {
   "cell_type": "code",
   "execution_count": null,
   "id": "e71ddbe0-fd40-4592-9080-01e41f2f0ea5",
   "metadata": {},
   "outputs": [],
   "source": []
  }
 ],
 "metadata": {
  "kernelspec": {
   "display_name": "Python 3 (ipykernel)",
   "language": "python",
   "name": "python3"
  },
  "language_info": {
   "codemirror_mode": {
    "name": "ipython",
    "version": 3
   },
   "file_extension": ".py",
   "mimetype": "text/x-python",
   "name": "python",
   "nbconvert_exporter": "python",
   "pygments_lexer": "ipython3",
   "version": "3.12.4"
  }
 },
 "nbformat": 4,
 "nbformat_minor": 5
}
