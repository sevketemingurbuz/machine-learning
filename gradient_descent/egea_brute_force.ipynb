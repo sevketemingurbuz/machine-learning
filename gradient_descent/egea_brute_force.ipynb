{
 "cells": [
  {
   "cell_type": "code",
   "execution_count": 7,
   "id": "02ffa3f5-3bd2-4ab5-a3b6-ffd129b00d3f",
   "metadata": {},
   "outputs": [
    {
     "data": {
      "text/plain": [
       "'C:\\\\Users\\\\emr_f\\\\Desktop\\\\veri_madenciligi\\\\çalışmalar\\\\gradient_descent'"
      ]
     },
     "execution_count": 7,
     "metadata": {},
     "output_type": "execute_result"
    }
   ],
   "source": [
    "pwd"
   ]
  },
  {
   "cell_type": "code",
   "execution_count": 3,
   "id": "2bf5d217-317b-41af-9a6b-8f21dc92ba94",
   "metadata": {},
   "outputs": [],
   "source": [
    "import numpy as np\n",
    "import pandas as pd"
   ]
  },
  {
   "cell_type": "code",
   "execution_count": 5,
   "id": "25881e93-0010-42d3-aa0c-94176496299b",
   "metadata": {},
   "outputs": [],
   "source": [
    "veri= pd.read_excel(\"..//veriseti//egea_fiyatlar.xlsx\")"
   ]
  },
  {
   "cell_type": "code",
   "execution_count": 6,
   "id": "45b4b6ba-bb52-4732-8b2b-4ea084e6ee55",
   "metadata": {},
   "outputs": [],
   "source": [
    "veri.head()\n",
    "veri= veri.to_numpy()"
   ]
  },
  {
   "cell_type": "code",
   "execution_count": 7,
   "id": "a22640f4-5818-4a8b-b529-717b2cdf2300",
   "metadata": {},
   "outputs": [],
   "source": [
    "w0= 950\n",
    "w1= -5\n",
    "\n",
    "weight=[w0, w1]\n",
    "a= 0.0001"
   ]
  },
  {
   "cell_type": "code",
   "execution_count": 8,
   "id": "b48110c3-0240-4414-8d23-3698e16469e2",
   "metadata": {},
   "outputs": [
    {
     "data": {
      "text/plain": [
       "20"
      ]
     },
     "execution_count": 8,
     "metadata": {},
     "output_type": "execute_result"
    }
   ],
   "source": [
    "X_egitim= veri[:20,0]\n",
    "Y_egitim= veri[:20,1]\n",
    "\n",
    "X_test= veri[20:,0]\n",
    "Y_test= veri[20:,1]\n",
    "\n",
    "len(X_egitim)"
   ]
  },
  {
   "cell_type": "code",
   "execution_count": null,
   "id": "6afc67ac-0e09-4a67-8a02-83123d7d39fd",
   "metadata": {},
   "outputs": [],
   "source": [
    "def turev():\n",
    "    toplam=0\n",
    "    for i in range(len(X_test)):\n",
    "        toplam+= w0 + w1*X_test[i] - Y_test[i]\n",
    "    w0_yeni= w0 - a*(toplam/len(X_test))\n",
    "    toplam=0\n",
    "    for i in range(len(X_test)):\n",
    "        toplam+= (w0 + w1*X_test[i] - Y_test[i])*X_test[i]\n",
    "    w1_yeni= w1 - a*(toplam/len(X_test))\n",
    "\n",
    "    w0= w0_yeni\n",
    "    w1= w1_yeni"
   ]
  },
  {
   "cell_type": "code",
   "execution_count": 9,
   "id": "a424a2a5-bdaa-4694-b0c6-881b297066ee",
   "metadata": {},
   "outputs": [
    {
     "name": "stdout",
     "output_type": "stream",
     "text": [
      "491887.65\n",
      "516482.03250000003\n",
      "517711.7516249999\n",
      "517773.23758124997\n",
      "517776.31187906244\n",
      "517776.46559395315\n",
      "517776.47327969765\n",
      "517776.4736639849\n",
      "517776.47368319926\n",
      "517776.4736841599\n"
     ]
    }
   ],
   "source": [
    "toplam=0\n",
    "loss=0\n",
    "for i in range(10):\n",
    "    toplam=0\n",
    "    for i in range(len(X_egitim)):\n",
    "        toplam+= (w0 + w1*X_egitim[i] - Y_egitim[i]) \n",
    "    w0_yeni= w0 - a * (1/len(X_egitim)) * toplam\n",
    "    toplam= 0\n",
    "    for i in range(len(X_egitim)):\n",
    "        toplam+= (w0 + w1*X_egitim[i] - Y_egitim[i]) * X_egitim[i] \n",
    "    w1_yeni= w1 - a * (1/len(X_egitim)) * toplam\n",
    "    w0= w0_yeni\n",
    "    w1= w1_yeni\n",
    "    for i in range(len(X_egitim)):\n",
    "        loss+= (X_egitim[i] - Y_egitim[i])**2\n",
    "    loss= loss / len(X_egitim)\n",
    "    print(loss)"
   ]
  },
  {
   "cell_type": "code",
   "execution_count": 123,
   "id": "2c99eb42-6cb3-4427-8376-e497692b4dae",
   "metadata": {
    "scrolled": true
   },
   "outputs": [
    {
     "name": "stdout",
     "output_type": "stream",
     "text": [
      "840\n",
      "870\n",
      "***\n",
      "778\n",
      "720\n",
      "***\n",
      "805\n",
      "875\n",
      "***\n",
      "859\n",
      "910\n",
      "***\n",
      "692\n",
      "685\n",
      "***\n"
     ]
    }
   ],
   "source": [
    "tahmin= []\n",
    "for i in range(len(X_test)):\n",
    "    tahmin.append(w0 + w1*X_test[i])\n",
    "    print(int(tahmin[i]))\n",
    "    print(Y_test[i])\n",
    "    print(\"***\")\n",
    "    "
   ]
  },
  {
   "cell_type": "code",
   "execution_count": 119,
   "id": "5d96fb2d-cf8f-4475-aaf0-8a470d5cd9f0",
   "metadata": {},
   "outputs": [
    {
     "name": "stdout",
     "output_type": "stream",
     "text": [
      "950.0267790792337\n",
      "-1.5067599325810346\n"
     ]
    }
   ],
   "source": [
    "print(w0)\n",
    "print(w1)"
   ]
  },
  {
   "cell_type": "code",
   "execution_count": 96,
   "id": "a68e6466-a557-41ee-b06a-f1f741602d2e",
   "metadata": {},
   "outputs": [],
   "source": [
    "def loss(w0, w1, X_test, Y_test):\n",
    "    for i in range(20):\n",
    "        loss+= (w0 + w1*X_test[i] - Y_test[i])**2\n",
    "    loss= (1/20)*loss\n",
    "    print(loss)"
   ]
  }
 ],
 "metadata": {
  "kernelspec": {
   "display_name": "Python 3 (ipykernel)",
   "language": "python",
   "name": "python3"
  },
  "language_info": {
   "codemirror_mode": {
    "name": "ipython",
    "version": 3
   },
   "file_extension": ".py",
   "mimetype": "text/x-python",
   "name": "python",
   "nbconvert_exporter": "python",
   "pygments_lexer": "ipython3",
   "version": "3.12.4"
  }
 },
 "nbformat": 4,
 "nbformat_minor": 5
}
